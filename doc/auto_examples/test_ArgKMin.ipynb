{
  "cells": [
    {
      "cell_type": "code",
      "execution_count": null,
      "metadata": {
        "collapsed": false
      },
      "outputs": [],
      "source": [
        "%matplotlib inline"
      ]
    },
    {
      "cell_type": "markdown",
      "metadata": {},
      "source": [
        "\nExample of KeOps arg-k-min reduction using the generic syntax. \n==================================================================\n\nWe define a dataset of N points in R^D, then compute for each\npoint the indices of its K nearest neighbours (including itself).\nThis example uses a pure numpy framework (without Pytorch).\n\n"
      ]
    },
    {
      "cell_type": "code",
      "execution_count": null,
      "metadata": {
        "collapsed": false
      },
      "outputs": [],
      "source": [
        "#--------------------------------------------------------------#\n#                     Standard imports                         #\n#--------------------------------------------------------------#\nimport time\nimport numpy as np\n\n\n#--------------------------------------------------------------#\n#   Please use the \"verbose\" compilation mode for debugging    #\n#--------------------------------------------------------------#\n#import sys, os.path\n#sys.path.append(os.path.dirname(os.path.abspath(__file__)) + (os.path.sep + '..')*2)\n\nfrom pykeops.numpy import Genred\n\n# import pykeops\n# pykeops.verbose = False\n\n#--------------------------------------------------------------#\n#                   Define our dataset                         #\n#--------------------------------------------------------------#\nN = 5000\nD = 2\nK = 3\n\ntype = 'float32'  # May be 'float32' or 'float64'\n\nx = np.random.randn(N,D).astype(type)\n\n#--------------------------------------------------------------#\n#                        Kernel                                #\n#--------------------------------------------------------------#\nformula = 'SqDist(x,y)'\nvariables = ['x = Vx('+str(D)+')',  # First arg   : i-variable, of size D\n             'y = Vy('+str(D)+')']  # Second arg  : j-variable, of size D\n\n# The parameter reduction_op='ArgKMin' together with axis=1 means that the reduction operation\n# is a sum over the second dimension j. Thence the results will be an i-variable.\nmy_routine = Genred(formula, variables, reduction_op='ArgKMin', axis=1, cuda_type=type, opt_arg=K)\n\n# dummy first call for accurate timing in case of GPU use\nmy_routine(np.random.rand(10,D).astype(type),np.random.rand(10,D).astype(type), backend=\"auto\")\n\nstart = time.time()\nc = my_routine(x, x, backend=\"auto\").astype(int)\n\n# N.B.: If CUDA is available + backend=\"auto\" (or not specified),\n#       KeOps will load the data on the GPU + compute + unload the result back to the CPU,\n#       as it is assumed to be more efficient.\n#       By specifying backend=\"CPU\", you can make sure that the result is computed\n#       using a simple C++ for loop\n\nprint(\"Time to compute the convolution operation: \",round(time.time()-start,5),\"s\")\n\nprint(\"Output values :\")\nprint(c)"
      ]
    }
  ],
  "metadata": {
    "kernelspec": {
      "display_name": "Python 3",
      "language": "python",
      "name": "python3"
    },
    "language_info": {
      "codemirror_mode": {
        "name": "ipython",
        "version": 3
      },
      "file_extension": ".py",
      "mimetype": "text/x-python",
      "name": "python",
      "nbconvert_exporter": "python",
      "pygments_lexer": "ipython3",
      "version": "3.6.4"
    }
  },
  "nbformat": 4,
  "nbformat_minor": 0
}