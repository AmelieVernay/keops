{
  "cells": [
    {
      "cell_type": "code",
      "execution_count": null,
      "metadata": {
        "collapsed": false
      },
      "outputs": [],
      "source": [
        "%matplotlib inline"
      ]
    },
    {
      "cell_type": "markdown",
      "metadata": {},
      "source": [
        "\nExample of KeOps k-means algorithm using the generic syntax. \n==============================================================\n\nWe define a dataset of N points in R^D, then apply a simple k-means algorithm.\nThis example uses a pure numpy framework (without Pytorch).\n\n"
      ]
    },
    {
      "cell_type": "code",
      "execution_count": null,
      "metadata": {
        "collapsed": false
      },
      "outputs": [],
      "source": [
        "#--------------------------------------------------------------#\n#                     Standard imports                         #\n#--------------------------------------------------------------#\nimport time\nimport numpy as np\nfrom matplotlib import pyplot as plt\n\n#--------------------------------------------------------------#\n#   Please use the \"verbose\" compilation mode for debugging    #\n#--------------------------------------------------------------#\n#import sys, os.path\n#sys.path.append(os.path.dirname(os.path.abspath(__file__)) + (os.path.sep + '..')*2)\n\nfrom pykeops.numpy import Genred\n\n# import pykeops\n# pykeops.verbose = False\n\n#--------------------------------------------------------------#\n#                   Define our dataset                         #\n#--------------------------------------------------------------#\nN = 5000\nD = 2\nK = 50\nNiter = 10\nprint(\"k-means example with \"+str(N)+\" points in \"+str(D)+\"-D, and K=\"+str(K))\n\ntype = 'float32'  # May be 'float32' or 'float64'\n\nx = np.random.rand(N,D).astype(type)\n\n#--------------------------------------------------------------#\n#                        Kernel                                #\n#--------------------------------------------------------------#\nformula = 'SqDist(x,y)'\nvariables = ['x = Vx('+str(D)+')',  # First arg   : i-variable, of size D\n             'y = Vy('+str(D)+')']  # Second arg  : j-variable, of size D\n\n# The parameter reduction_op='ArgMin' together with axis=1 means that the reduction operation\n# is a sum over the second dimension j. Thence the results will be an i-variable.\nmy_routine = Genred(formula, variables, reduction_op='ArgMin', axis=1, cuda_type=type)\n\n# dummy first call for accurate timing in case of GPU use\nmy_routine(np.random.rand(10,D).astype(type),np.random.rand(10,D).astype(type), backend=\"auto\")\n\nstart = time.time()\n# x is dataset, \n# c are centers, \n# cl is class index for each point in x\nc = np.copy(x[:K,:])\nfor i in range(Niter):\n    cl = my_routine(x,c,backend=\"auto\").astype(int).reshape(N)\n    c[:] = 0\n    Ncl = np.bincount(cl).astype(type)\n    for d in range(D):\n        c[:,d] = np.bincount(cl,weights=x[:,d])\n    c = (c.transpose()/Ncl).transpose()\nend = time.time()\nprint(\"Time to perform\",str(Niter),\"iterations of k-means:\",round(end-start,5),\"s\")\nprint(\"Time per iteration :\",round((end-start)/Niter,5),\"s\")\n\nif D==2 and N<100000:\n    plt.ion()\n    plt.clf()\n    plt.scatter(x[:,0],x[:,1],c=cl,s=10)\n    plt.scatter(c[:,0],c[:,1],c=\"black\",s=50,alpha=.5)\n    print(\"Done. Close the figure to exit.\")\n    plt.show(block=(__name__==\"__main__\"))"
      ]
    }
  ],
  "metadata": {
    "kernelspec": {
      "display_name": "Python 3",
      "language": "python",
      "name": "python3"
    },
    "language_info": {
      "codemirror_mode": {
        "name": "ipython",
        "version": 3
      },
      "file_extension": ".py",
      "mimetype": "text/x-python",
      "name": "python",
      "nbconvert_exporter": "python",
      "pygments_lexer": "ipython3",
      "version": "3.6.4"
    }
  },
  "nbformat": 4,
  "nbformat_minor": 0
}