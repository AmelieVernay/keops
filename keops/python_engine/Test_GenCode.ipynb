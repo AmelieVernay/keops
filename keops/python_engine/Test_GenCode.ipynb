{
 "cells": [
  {
   "cell_type": "code",
   "execution_count": 1,
   "metadata": {},
   "outputs": [],
   "source": [
    "from operations import *\n",
    "from reductions import *\n",
    "from link_compile import CpuReduc\n",
    "import time"
   ]
  },
  {
   "cell_type": "code",
   "execution_count": 6,
   "metadata": {
    "scrolled": false
   },
   "outputs": [
    {
     "name": "stdout",
     "output_type": "stream",
     "text": [
      "code generation time :  0.002766132354736328\n",
      "compilation time :  0.24523091316223145\n"
     ]
    }
   ],
   "source": [
    "start = time.time()\n",
    "red_formula_string = \"Sum_Reduction((Exp(Minus(Sum(Square((Var(0,3,0) - Var(1,3,1))*Var(1,3,1))))) * Var(2,1,1)),0)\"\n",
    "red_formula = eval(red_formula_string)\n",
    "code = CpuReduc(red_formula,dtype=\"float\",dtypeacc=\"double\")()\n",
    "f = open(\"test.cpp\",\"w\")\n",
    "f.write(code)\n",
    "f.close()\n",
    "elapsed = time.time()-start\n",
    "print(\"code generation time : \", elapsed)\n",
    "\n",
    "start = time.time()\n",
    "!g++ -c -O3 -DUSE_OPENMP=1 test.cpp\n",
    "elapsed = time.time()-start\n",
    "print(\"compilation time : \", elapsed)"
   ]
  },
  {
   "cell_type": "code",
   "execution_count": 3,
   "metadata": {
    "scrolled": false
   },
   "outputs": [
    {
     "name": "stdout",
     "output_type": "stream",
     "text": [
      "#include <cmath>\n",
      "\n",
      "#ifdef USE_OPENMP\n",
      "#include <omp.h>\n",
      "#endif\n",
      "\n",
      "extern \"C\" int CpuReduc(int nx, int ny, float *out, float **args) {\n",
      "\n",
      "#pragma omp parallel for\n",
      "  for (int i = 0; i < nx; i++) {\n",
      "    float fout[1];\n",
      "    float xi[3];\n",
      "    float yj[4];\n",
      "    double acc[1];\n",
      "    xi[0] = args[0][i * 3 + 0];\n",
      "    xi[1] = args[0][i * 3 + 1];\n",
      "    xi[2] = args[0][i * 3 + 2];\n",
      "\n",
      "#pragma unroll\n",
      "    for (int k = 0; k < 1; k++)\n",
      "      acc[k] = (double)(0.0f);\n",
      "    for (int j = 0; j < ny; j++) {\n",
      "      yj[0] = args[2][j * 1 + 0];\n",
      "      yj[1] = args[1][j * 3 + 0];\n",
      "      yj[2] = args[1][j * 3 + 1];\n",
      "      yj[3] = args[1][j * 3 + 2];\n",
      "\n",
      "      // Starting code block for Mult.\n",
      "      {\n",
      "        float arg0_1[1];\n",
      "\n",
      "        // Starting code block for Exp.\n",
      "        {\n",
      "          float arg_1[1];\n",
      "\n",
      "          // Starting code block for Minus.\n",
      "          {\n",
      "            float arg_2[1];\n",
      "\n",
      "            // Starting code block for Sum.\n",
      "            {\n",
      "              float arg_3[3];\n",
      "\n",
      "              // Starting code block for Square.\n",
      "              {\n",
      "                float arg_4[3];\n",
      "\n",
      "                // Starting code block for Mult.\n",
      "                {\n",
      "                  float arg0_2[3];\n",
      "\n",
      "                  // Starting code block for Subtract.\n",
      "                  {\n",
      "#pragma unroll\n",
      "                    for (int k = 0; k < 3; k++) {\n",
      "                      arg0_2[k * 1] = (xi + 0)[k * 1] - (yj + 1)[k * 1];\n",
      "                    }\n",
      "                  }\n",
      "                  // Finished code block for Subtract.\n",
      "\n",
      "#pragma unroll\n",
      "                  for (int k = 0; k < 3; k++) {\n",
      "                    arg_4[k * 1] = arg0_2[k * 1] * (yj + 1)[k * 1];\n",
      "                  }\n",
      "                }\n",
      "                // Finished code block for Mult.\n",
      "\n",
      "#pragma unroll\n",
      "                for (int k = 0; k < 3; k++) {\n",
      "                  arg_3[k * 1] = arg_4[k * 1] * arg_4[k * 1];\n",
      "                }\n",
      "              }\n",
      "              // Finished code block for Square.\n",
      "\n",
      "              *arg_2 = (float)(0.0f);\n",
      "#pragma unroll\n",
      "              for (int k = 0; k < 1; k++) {\n",
      "                arg_2[k * 1] += arg_3[k * 1];\n",
      "              }\n",
      "            }\n",
      "            // Finished code block for Sum.\n",
      "\n",
      "#pragma unroll\n",
      "            for (int k = 0; k < 1; k++) {\n",
      "              arg_1[k * 1] = -arg_2[k * 1];\n",
      "            }\n",
      "          }\n",
      "          // Finished code block for Minus.\n",
      "\n",
      "#pragma unroll\n",
      "          for (int k = 0; k < 1; k++) {\n",
      "            arg0_1[k * 1] = exp(arg_1[k * 1]);\n",
      "          }\n",
      "        }\n",
      "        // Finished code block for Exp.\n",
      "\n",
      "#pragma unroll\n",
      "        for (int k = 0; k < 1; k++) {\n",
      "          fout[k * 1] = arg0_1[k * 1] * (yj + 0)[k * 1];\n",
      "        }\n",
      "      }\n",
      "      // Finished code block for Mult.\n",
      "\n",
      "#pragma unroll\n",
      "      for (int k = 0; k < 1; k++) {\n",
      "        acc[k * 1] += (double)(fout[k * 1]);\n",
      "      }\n",
      "    }\n",
      "#pragma unroll\n",
      "    for (int k = 0; k < 1; k++)\n",
      "      (out + i * 1)[k] = (float)acc[k];\n",
      "  }\n",
      "  return 0;\n",
      "}\n",
      "\n"
     ]
    }
   ],
   "source": [
    "!clang-format -i test.cpp\n",
    "f = open(\"test.cpp\")\n",
    "code = f.read()\n",
    "f.close()\n",
    "print(code)"
   ]
  }
 ],
 "metadata": {
  "kernelspec": {
   "display_name": "Python 3",
   "language": "python",
   "name": "python3"
  },
  "language_info": {
   "codemirror_mode": {
    "name": "ipython",
    "version": 3
   },
   "file_extension": ".py",
   "mimetype": "text/x-python",
   "name": "python",
   "nbconvert_exporter": "python",
   "pygments_lexer": "ipython3",
   "version": "3.8.5"
  }
 },
 "nbformat": 4,
 "nbformat_minor": 4
}
