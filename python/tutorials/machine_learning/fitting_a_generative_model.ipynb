{
 "cells": [
  {
   "cell_type": "code",
   "execution_count": null,
   "metadata": {
    "collapsed": true
   },
   "outputs": [],
   "source": [
    "import numpy as np\n",
    "import matplotlib.pyplot as plt\n",
    "%matplotlib nbagg"
   ]
  },
  {
   "cell_type": "code",
   "execution_count": null,
   "metadata": {
    "collapsed": true
   },
   "outputs": [],
   "source": [
    "import torch\n",
    "from torch import nn\n",
    "from torch.nn       import Parameter\n",
    "from torch.autograd import Variable"
   ]
  },
  {
   "cell_type": "code",
   "execution_count": null,
   "metadata": {
    "collapsed": true
   },
   "outputs": [],
   "source": [
    "def PolynomialMapping( coeffs, T ) :\n",
    "    X = Variable(torch.zeros( 2, len(T) ))\n",
    "    for (d, c) in enumerate(coeffs) :\n",
    "        X += c.view(2,1) * ( T.view(1,len(T)) )**d\n",
    "    return X.t()"
   ]
  },
  {
   "cell_type": "code",
   "execution_count": null,
   "metadata": {
    "collapsed": false
   },
   "outputs": [],
   "source": [
    "class GenerativeModel(nn.Module) :\n",
    "    \"\"\"\n",
    "    This Model generates discrete measures in the plane R^2, according to\n",
    "    the following process:\n",
    "    - a \n",
    "    \n",
    "    This class can therefore be seen as a differentiable implementation\n",
    "    of a Gaussian Mixture Model in R, embedded in the plane by a polynomial\n",
    "    mapping.\n",
    "    \n",
    "    Even though this notebook is not dedicated to \"Neural Networks\",\n",
    "    we use the convenient syntax introduced by nn.Module and nn.Parameter.\n",
    "    \"\"\"\n",
    "    def __init__(self, p = None, sigmas = None, coeffs = None) :\n",
    "        \"Defines the parameters of the model.\"\n",
    "        super(GenerativeModel, self).__init__()\n",
    "        if p      is None : p      = [0]\n",
    "        if sigmas is None : sigmas = [.1,.1]\n",
    "        if coeffs is None : coeffs = [[.1,.1,.1,.1], [.1,.1,.1,.1]]\n",
    "            \n",
    "        self.p      = Parameter(torch.from_numpy(np.array(p     )).float())\n",
    "        self.sigmas = Parameter(torch.from_numpy(np.array(sigmas)).float())\n",
    "        self.coeffs = Parameter(torch.from_numpy(np.array(coeffs).T).float())\n",
    "\n",
    "    def forward(self, N) :\n",
    "        \"\"\"\n",
    "        Assuming that N is an integer, generates:\n",
    "        - a batch X_i of N points in the plane - an (N,2) array\n",
    "        - a vector of weights M_i - an (N,) vector.\n",
    "        The generated measure is equal to\n",
    "            Mu = \\sum_i M_i*\\delta_{X_i}\n",
    "        \"\"\"\n",
    "        if N % 2 == 1 : raise ValueError(\"N should be an even number (for the sake of simplicity).\")\n",
    "        cut = N//2\n",
    "        \n",
    "        T = Variable(torch.normal( means = torch.zeros(N) ) )\n",
    "        T = torch.cat( (self.sigmas[0] * T[:cut] + 0. ,\n",
    "                        self.sigmas[1] * T[cut:] + 1. ) )\n",
    "        \n",
    "        X = PolynomialMapping(self.coeffs, T)\n",
    "        W = Variable(torch.zeros(N))\n",
    "        P = 1. / (1. + torch.exp(-self.p))\n",
    "        W = torch.cat( ( (   P  / cut    ) * Variable(torch.ones(cut)) ,\n",
    "                         ((1-P) / (N-cut)) * Variable(torch.ones(cut)) ) )\n",
    "        return W, X\n",
    "    \n",
    "    def plot(self, axis, color = 'b') :\n",
    "        t = Variable(torch.linspace(-5,5,101))\n",
    "        X = PolynomialMapping(self.coeffs, t)\n",
    "        X = X.data.cpu().numpy()\n",
    "        axis.plot( X[:,0], X[:,1], color+'-+', markersize = 8, linewidth=.5, zorder=-1 )\n",
    "        \n",
    "        t = Variable(torch.linspace(0,1,2))\n",
    "        X = PolynomialMapping(self.coeffs, t)\n",
    "        X = X.data.cpu().numpy()\n",
    "        axis.scatter( X[:,0], X[:,1], 25, color )"
   ]
  },
  {
   "cell_type": "code",
   "execution_count": null,
   "metadata": {
    "collapsed": false
   },
   "outputs": [],
   "source": [
    "GroundTruth = GenerativeModel(p = [1.], sigmas = [.1,.2], \n",
    "                              coeffs = [[-.5,1.8,-.7,.2], [-.7,-1.5,.6,.2]])\n",
    "# print(list(GroundTruth.parameters()))"
   ]
  },
  {
   "cell_type": "code",
   "execution_count": null,
   "metadata": {
    "collapsed": false
   },
   "outputs": [],
   "source": [
    "(W_d, X_d) = GroundTruth(200)\n",
    "X_d = X_d + .02 * Variable(torch.normal( means = torch.zeros(X_d.size()) )) "
   ]
  },
  {
   "cell_type": "code",
   "execution_count": null,
   "metadata": {
    "collapsed": false
   },
   "outputs": [],
   "source": [
    "w_d = W_d.data.cpu().numpy() ; x_d = X_d.data.cpu().numpy()\n",
    "\n",
    "fig = plt.figure(figsize=(10,10))\n",
    "ax  = plt.subplot(1,1,1)\n",
    "#GroundTruth.plot(ax, 'b')\n",
    "ax.scatter( x_d[:,0], x_d[:,1], 6400*w_d, 'g', edgecolors='none' )\n",
    "plt.axis('equal') \n",
    "ax.set_xlim([-2,2]) ; ax.set_ylim([-2,2])\n",
    "plt.tight_layout()  ; fig.canvas.draw()\n"
   ]
  },
  {
   "cell_type": "code",
   "execution_count": null,
   "metadata": {
    "collapsed": true
   },
   "outputs": [],
   "source": [
    "MyModel = GenerativeModel()\n",
    "(W_t, X_t) = MyModel(200)"
   ]
  },
  {
   "cell_type": "code",
   "execution_count": null,
   "metadata": {
    "collapsed": false
   },
   "outputs": [],
   "source": [
    "w_d = W_d.data.cpu().numpy() ; x_d = X_d.data.cpu().numpy()\n",
    "w_t = W_t.data.cpu().numpy() ; x_t = X_t.data.cpu().numpy()\n",
    "\n",
    "fig = plt.figure(figsize=(10,10))\n",
    "ax  = plt.subplot(1,1,1)\n",
    "GroundTruth.plot(ax, 'b')\n",
    "MyModel.plot(ax, 'm')\n",
    "ax.scatter( x_d[:,0], x_d[:,1], 6400*w_d, 'g', edgecolors='none' )\n",
    "ax.scatter( x_t[:,0], x_t[:,1], 6400*w_t, 'r', edgecolors='none' )\n",
    "\n",
    "plt.axis('equal') \n",
    "ax.set_xlim([-2,2]) ; ax.set_ylim([-2,2])\n",
    "plt.tight_layout()  ; fig.canvas.draw()"
   ]
  },
  {
   "cell_type": "code",
   "execution_count": null,
   "metadata": {
    "collapsed": true
   },
   "outputs": [],
   "source": [
    "def FitModel(Model, Fidelity, EmpiricMeasure, *args, **kwargs) :\n",
    "    N = len(EmpiricMeasure[0])\n",
    "    print(N)\n",
    "    optimizer = torch.optim.Adam(Model.parameters(), lr = .1)\n",
    "    for i in range(401) :\n",
    "        optimizer.zero_grad()\n",
    "        Cost = Fidelity( Model(N), EmpiricMeasure, *args, **kwargs )\n",
    "        Cost.backward(retain_graph=True)\n",
    "        if i % 20 == 0:\n",
    "            print(\"Iteration \",i,\"Cost = \", Cost.data.cpu().numpy()[0])\n",
    "        optimizer.step()"
   ]
  },
  {
   "cell_type": "code",
   "execution_count": null,
   "metadata": {
    "collapsed": false
   },
   "outputs": [],
   "source": [
    "def kernel_product(x,y,nu, mode, s) :\n",
    "    x_i = x.unsqueeze(1) ; y_j = y.unsqueeze(0)\n",
    "    xmy = ((x_i-y_j)**2).sum(2)\n",
    "    if mode == \"gaussian\" :\n",
    "        K = torch.exp( - xmy / (s**2) )\n",
    "    elif mode == \"energy\" :\n",
    "        K = torch.pow( xmy + (s**2), -.25 )\n",
    "    return K @ (nu.view(-1,1))\n",
    "\n",
    "def kernel_scalar_product(Mu, Nu, mode, s) :\n",
    "    (mu, x) = Mu ; (nu, y) = Nu\n",
    "    k_nu = kernel_product(x,y,nu,mode,s)\n",
    "    return torch.dot( mu.view(-1), k_nu.view(-1))"
   ]
  },
  {
   "cell_type": "code",
   "execution_count": null,
   "metadata": {
    "collapsed": false
   },
   "outputs": [],
   "source": [
    "def kernel_distance(Mu, Nu, mode = \"gaussian\", s = 1.) :\n",
    "    return (   kernel_scalar_product(Mu,Mu,mode,s) \\\n",
    "           +   kernel_scalar_product(Nu,Nu,mode,s) \\\n",
    "           - 2*kernel_scalar_product(Mu,Nu,mode,s) )"
   ]
  },
  {
   "cell_type": "code",
   "execution_count": null,
   "metadata": {
    "collapsed": false
   },
   "outputs": [],
   "source": []
  },
  {
   "cell_type": "code",
   "execution_count": null,
   "metadata": {
    "collapsed": false
   },
   "outputs": [],
   "source": [
    "MyModel = GenerativeModel()\n",
    "FitModel(MyModel, kernel_distance, (W_d, X_d), mode = \"energy\", s=.05)"
   ]
  },
  {
   "cell_type": "code",
   "execution_count": null,
   "metadata": {
    "collapsed": true
   },
   "outputs": [],
   "source": [
    "(W_t, X_t) = MyModel(200)"
   ]
  },
  {
   "cell_type": "code",
   "execution_count": null,
   "metadata": {
    "collapsed": false
   },
   "outputs": [],
   "source": [
    "w_d = W_d.data.cpu().numpy() ; x_d = X_d.data.cpu().numpy()\n",
    "w_t = W_t.data.cpu().numpy() ; x_t = X_t.data.cpu().numpy()\n",
    "\n",
    "fig = plt.figure(figsize=(10,10))\n",
    "ax  = plt.subplot(1,1,1)\n",
    "GroundTruth.plot(ax, 'b')\n",
    "MyModel.plot(ax, 'm')\n",
    "ax.scatter( x_d[:,0], x_d[:,1], 6400*w_d, 'g', edgecolors='none' )\n",
    "ax.scatter( x_t[:,0], x_t[:,1], 6400*w_t, 'r', edgecolors='none' )\n",
    "\n",
    "plt.axis('equal') \n",
    "ax.set_xlim([-2,2]) ; ax.set_ylim([-2,2])\n",
    "plt.tight_layout()  ; fig.canvas.draw()"
   ]
  },
  {
   "cell_type": "code",
   "execution_count": null,
   "metadata": {
    "collapsed": false
   },
   "outputs": [],
   "source": [
    "MyModel.coeffs"
   ]
  },
  {
   "cell_type": "code",
   "execution_count": null,
   "metadata": {
    "collapsed": true
   },
   "outputs": [],
   "source": []
  },
  {
   "cell_type": "code",
   "execution_count": null,
   "metadata": {
    "collapsed": true
   },
   "outputs": [],
   "source": []
  },
  {
   "cell_type": "code",
   "execution_count": null,
   "metadata": {
    "collapsed": true
   },
   "outputs": [],
   "source": []
  },
  {
   "cell_type": "code",
   "execution_count": null,
   "metadata": {
    "collapsed": true
   },
   "outputs": [],
   "source": []
  },
  {
   "cell_type": "code",
   "execution_count": null,
   "metadata": {
    "collapsed": true
   },
   "outputs": [],
   "source": []
  },
  {
   "cell_type": "code",
   "execution_count": null,
   "metadata": {
    "collapsed": true
   },
   "outputs": [],
   "source": []
  },
  {
   "cell_type": "code",
   "execution_count": null,
   "metadata": {
    "collapsed": true
   },
   "outputs": [],
   "source": []
  },
  {
   "cell_type": "code",
   "execution_count": null,
   "metadata": {
    "collapsed": true
   },
   "outputs": [],
   "source": []
  }
 ],
 "metadata": {
  "anaconda-cloud": {},
  "kernelspec": {
   "display_name": "Optirun",
   "language": "python",
   "name": "optirun"
  },
  "language_info": {
   "codemirror_mode": {
    "name": "ipython",
    "version": 3
   },
   "file_extension": ".py",
   "mimetype": "text/x-python",
   "name": "python",
   "nbconvert_exporter": "python",
   "pygments_lexer": "ipython3",
   "version": "3.5.2"
  }
 },
 "nbformat": 4,
 "nbformat_minor": 1
}
